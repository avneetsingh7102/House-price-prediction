{
 "cells": [
  {
   "cell_type": "markdown",
   "id": "313765fa-5211-468f-98c3-708f05c335b5",
   "metadata": {},
   "source": [
    " <b/>Pretiction of house prices. <b/>\n",
    "1. Regression\n",
    "2. Multiple Regression\n",
    "3. Multiple Regression with ML\n",
    "4. Exploratory data analysis "
   ]
  },
  {
   "cell_type": "code",
   "execution_count": 1,
   "id": "8ec73b07-c41b-4e20-95f7-6ee213f8ba8e",
   "metadata": {},
   "outputs": [],
   "source": [
    "import pandas as pd\n",
    "import matplotlib.pyplot as plt\n",
    "import seaborn as sns\n",
    "from sklearn.linear_model import LinearRegression \n",
    "from sklearn import linear_model\n",
    "#import cell "
   ]
  },
  {
   "cell_type": "markdown",
   "id": "59f05b14-5ddf-4032-b9db-0789aa7abc57",
   "metadata": {},
   "source": [
    "All the packages."
   ]
  },
  {
   "cell_type": "code",
   "execution_count": 2,
   "id": "58f1e5d8-6014-41d3-9a4c-13c44f6511fd",
   "metadata": {},
   "outputs": [
    {
     "data": {
      "text/html": [
       "<div>\n",
       "<style scoped>\n",
       "    .dataframe tbody tr th:only-of-type {\n",
       "        vertical-align: middle;\n",
       "    }\n",
       "\n",
       "    .dataframe tbody tr th {\n",
       "        vertical-align: top;\n",
       "    }\n",
       "\n",
       "    .dataframe thead th {\n",
       "        text-align: right;\n",
       "    }\n",
       "</style>\n",
       "<table border=\"1\" class=\"dataframe\">\n",
       "  <thead>\n",
       "    <tr style=\"text-align: right;\">\n",
       "      <th></th>\n",
       "      <th>price</th>\n",
       "      <th>area</th>\n",
       "      <th>bedrooms</th>\n",
       "      <th>bathrooms</th>\n",
       "      <th>stories</th>\n",
       "      <th>mainroad</th>\n",
       "      <th>guestroom</th>\n",
       "      <th>basement</th>\n",
       "      <th>hotwaterheating</th>\n",
       "      <th>airconditioning</th>\n",
       "      <th>parking</th>\n",
       "      <th>prefarea</th>\n",
       "      <th>furnishingstatus</th>\n",
       "    </tr>\n",
       "  </thead>\n",
       "  <tbody>\n",
       "    <tr>\n",
       "      <th>0</th>\n",
       "      <td>13300000</td>\n",
       "      <td>7420</td>\n",
       "      <td>4</td>\n",
       "      <td>2</td>\n",
       "      <td>3</td>\n",
       "      <td>1</td>\n",
       "      <td>0</td>\n",
       "      <td>0</td>\n",
       "      <td>0</td>\n",
       "      <td>1</td>\n",
       "      <td>2</td>\n",
       "      <td>1</td>\n",
       "      <td>2</td>\n",
       "    </tr>\n",
       "    <tr>\n",
       "      <th>1</th>\n",
       "      <td>12250000</td>\n",
       "      <td>8960</td>\n",
       "      <td>4</td>\n",
       "      <td>4</td>\n",
       "      <td>4</td>\n",
       "      <td>1</td>\n",
       "      <td>0</td>\n",
       "      <td>0</td>\n",
       "      <td>0</td>\n",
       "      <td>1</td>\n",
       "      <td>3</td>\n",
       "      <td>0</td>\n",
       "      <td>2</td>\n",
       "    </tr>\n",
       "    <tr>\n",
       "      <th>2</th>\n",
       "      <td>12250000</td>\n",
       "      <td>9960</td>\n",
       "      <td>3</td>\n",
       "      <td>2</td>\n",
       "      <td>2</td>\n",
       "      <td>1</td>\n",
       "      <td>0</td>\n",
       "      <td>1</td>\n",
       "      <td>0</td>\n",
       "      <td>0</td>\n",
       "      <td>2</td>\n",
       "      <td>1</td>\n",
       "      <td>1</td>\n",
       "    </tr>\n",
       "    <tr>\n",
       "      <th>3</th>\n",
       "      <td>12215000</td>\n",
       "      <td>7500</td>\n",
       "      <td>4</td>\n",
       "      <td>2</td>\n",
       "      <td>2</td>\n",
       "      <td>1</td>\n",
       "      <td>0</td>\n",
       "      <td>1</td>\n",
       "      <td>0</td>\n",
       "      <td>1</td>\n",
       "      <td>3</td>\n",
       "      <td>1</td>\n",
       "      <td>2</td>\n",
       "    </tr>\n",
       "    <tr>\n",
       "      <th>4</th>\n",
       "      <td>11410000</td>\n",
       "      <td>7420</td>\n",
       "      <td>4</td>\n",
       "      <td>1</td>\n",
       "      <td>2</td>\n",
       "      <td>1</td>\n",
       "      <td>1</td>\n",
       "      <td>1</td>\n",
       "      <td>0</td>\n",
       "      <td>1</td>\n",
       "      <td>2</td>\n",
       "      <td>0</td>\n",
       "      <td>2</td>\n",
       "    </tr>\n",
       "  </tbody>\n",
       "</table>\n",
       "</div>"
      ],
      "text/plain": [
       "      price  area  bedrooms  bathrooms  stories  mainroad  guestroom  \\\n",
       "0  13300000  7420         4          2        3         1          0   \n",
       "1  12250000  8960         4          4        4         1          0   \n",
       "2  12250000  9960         3          2        2         1          0   \n",
       "3  12215000  7500         4          2        2         1          0   \n",
       "4  11410000  7420         4          1        2         1          1   \n",
       "\n",
       "   basement  hotwaterheating  airconditioning  parking  prefarea  \\\n",
       "0         0                0                1        2         1   \n",
       "1         0                0                1        3         0   \n",
       "2         1                0                0        2         1   \n",
       "3         1                0                1        3         1   \n",
       "4         1                0                1        2         0   \n",
       "\n",
       "   furnishingstatus  \n",
       "0                 2  \n",
       "1                 2  \n",
       "2                 1  \n",
       "3                 2  \n",
       "4                 2  "
      ]
     },
     "execution_count": 2,
     "metadata": {},
     "output_type": "execute_result"
    }
   ],
   "source": [
    "df = pd.read_csv(\"C:\\\\Users\\\\avisi\\\\OneDrive\\\\AppData\\\\Documents\\\\data sets for prectice\\Housing.csv\")\n",
    "df.head()"
   ]
  },
  {
   "cell_type": "markdown",
   "id": "a3c39c7a-b436-48ba-83e4-8bbd86e036b1",
   "metadata": {},
   "source": [
    "Creating linearregration object."
   ]
  },
  {
   "cell_type": "code",
   "execution_count": 3,
   "id": "65e37ea1-02a5-43b0-a101-06da8c1f0d90",
   "metadata": {},
   "outputs": [
    {
     "data": {
      "text/plain": [
       "LinearRegression()"
      ]
     },
     "execution_count": 3,
     "metadata": {},
     "output_type": "execute_result"
    }
   ],
   "source": [
    "lm = LinearRegression()\n",
    "lm"
   ]
  },
  {
   "cell_type": "markdown",
   "id": "dc5b4d07-4027-4103-a2c2-3c2827917e2c",
   "metadata": {},
   "source": [
    "<b/> Regration analysis. <b/> "
   ]
  },
  {
   "cell_type": "code",
   "execution_count": 4,
   "id": "7b6633c6-9301-47dd-8231-c391615bef4d",
   "metadata": {},
   "outputs": [],
   "source": [
    "\n",
    "X = df[['area']]\n",
    "Y = df['price']\n"
   ]
  },
  {
   "cell_type": "code",
   "execution_count": 5,
   "id": "461df2d9-e48c-4c1a-af00-f9579fa0d972",
   "metadata": {},
   "outputs": [
    {
     "data": {
      "text/plain": [
       "LinearRegression()"
      ]
     },
     "execution_count": 5,
     "metadata": {},
     "output_type": "execute_result"
    }
   ],
   "source": [
    "lm.fit(X,Y)"
   ]
  },
  {
   "cell_type": "code",
   "execution_count": 6,
   "id": "2956ddc9-386b-4088-b344-560ed432c1d6",
   "metadata": {},
   "outputs": [
    {
     "data": {
      "text/plain": [
       "array([5815162.19790048, 6526603.53508057, 6988578.42935335,\n",
       "       5852120.1894423 , 5815162.19790048])"
      ]
     },
     "execution_count": 6,
     "metadata": {},
     "output_type": "execute_result"
    }
   ],
   "source": [
    "Yhat=lm.predict(X)\n",
    "Yhat[0:5]"
   ]
  },
  {
   "cell_type": "code",
   "execution_count": 7,
   "id": "1c91a80d-d0a9-4c24-b97d-bac2c61a419a",
   "metadata": {},
   "outputs": [
    {
     "data": {
      "text/plain": [
       "2387308.4823964303"
      ]
     },
     "execution_count": 7,
     "metadata": {},
     "output_type": "execute_result"
    }
   ],
   "source": [
    "lm.intercept_\n"
   ]
  },
  {
   "cell_type": "code",
   "execution_count": 8,
   "id": "7064b55b-dee9-45b7-b2a5-9929e508c769",
   "metadata": {},
   "outputs": [
    {
     "data": {
      "text/plain": [
       "array([461.97489427])"
      ]
     },
     "execution_count": 8,
     "metadata": {},
     "output_type": "execute_result"
    }
   ],
   "source": [
    "lm.coef_"
   ]
  },
  {
   "cell_type": "code",
   "execution_count": 9,
   "id": "a057b888-393a-475e-aecb-8a7cc5580d07",
   "metadata": {},
   "outputs": [],
   "source": [
    "input=10000"
   ]
  },
  {
   "cell_type": "code",
   "execution_count": 10,
   "id": "8cfc0f5b-20d1-4fc6-9a29-277c450a41b0",
   "metadata": {},
   "outputs": [],
   "source": [
    "PredictedPrice= 2387308.4823964303+461.97489427*input"
   ]
  },
  {
   "cell_type": "code",
   "execution_count": 11,
   "id": "7ba7818a-8450-4c14-ba6e-b381d9fd39a1",
   "metadata": {},
   "outputs": [
    {
     "name": "stdout",
     "output_type": "stream",
     "text": [
      "7007057.42509643\n"
     ]
    }
   ],
   "source": [
    "print(PredictedPrice)"
   ]
  },
  {
   "cell_type": "markdown",
   "id": "80273df9-fa85-4843-b7e5-3e7748059e76",
   "metadata": {},
   "source": []
  },
  {
   "cell_type": "code",
   "execution_count": 12,
   "id": "d3075cc5-ebc9-4e88-a09a-aa93879e12e7",
   "metadata": {},
   "outputs": [
    {
     "data": {
      "text/plain": [
       "(0.0, 13877500.0)"
      ]
     },
     "execution_count": 12,
     "metadata": {},
     "output_type": "execute_result"
    },
    {
     "data": {
      "image/png": "[encoded data removed]",
      "text/plain": [
       "<Figure size 432x288 with 1 Axes>"
      ]
     },
     "metadata": {
      "needs_background": "light"
     },
     "output_type": "display_data"
    }
   ],
   "source": [
    "sns.regplot(x=\"area\",y = \"price\",data = df)\n",
    "plt.ylim(0,)"
   ]
  },
  {
   "cell_type": "code",
   "execution_count": 13,
   "id": "bb12670f-835a-46f6-80c6-c6881d5bc08f",
   "metadata": {},
   "outputs": [
    {
     "name": "stderr",
     "output_type": "stream",
     "text": [
      "C:\\Users\\avisi\\anaconda3\\lib\\site-packages\\seaborn\\_decorators.py:36: FutureWarning: Pass the following variables as keyword args: x, y. From version 0.12, the only valid positional argument will be `data`, and passing other arguments without an explicit keyword will result in an error or misinterpretation.\n",
      "  warnings.warn(\n"
     ]
    },
    {
     "data": {
      "text/plain": [
       "<AxesSubplot:xlabel='area', ylabel='price'>"
      ]
     },
     "execution_count": 13,
     "metadata": {},
     "output_type": "execute_result"
    },
    {
     "data": {
      "image/png": "[encoded data removed]",
      "text/plain": [
       "<Figure size 432x288 with 1 Axes>"
      ]
     },
     "metadata": {
      "needs_background": "light"
     },
     "output_type": "display_data"
    }
   ],
   "source": [
    "sns.residplot(df['area'],df[\"price\"])"
   ]
  },
  {
   "cell_type": "code",
   "execution_count": 14,
   "id": "95c0cf8e-51f4-464d-a30e-2b12b10bfa32",
   "metadata": {},
   "outputs": [
    {
     "name": "stdout",
     "output_type": "stream",
     "text": [
      "price               int64\n",
      "area                int64\n",
      "bedrooms            int64\n",
      "bathrooms           int64\n",
      "stories             int64\n",
      "mainroad            int64\n",
      "guestroom           int64\n",
      "basement            int64\n",
      "hotwaterheating     int64\n",
      "airconditioning     int64\n",
      "parking             int64\n",
      "prefarea            int64\n",
      "furnishingstatus    int64\n",
      "dtype: object\n"
     ]
    }
   ],
   "source": [
    "print(df.dtypes)"
   ]
  },
  {
   "cell_type": "code",
   "execution_count": 21,
   "id": "71b13dc1-f164-49b8-ac05-a1075e3a8e20",
   "metadata": {},
   "outputs": [
    {
     "data": {
      "text/plain": [
       "<AxesSubplot:xlabel='bedrooms', ylabel='price'>"
      ]
     },
     "execution_count": 21,
     "metadata": {},
     "output_type": "execute_result"
    },
    {
     "data": {
      "image/png": "[encoded data removed]",
      "text/plain": [
       "<Figure size 432x288 with 1 Axes>"
      ]
     },
     "metadata": {
      "needs_background": "light"
     },
     "output_type": "display_data"
    }
   ],
   "source": [
    "sns.regplot(x=\"bedrooms\", y=\"price\", data=df)"
   ]
  },
  {
   "cell_type": "code",
   "execution_count": 22,
   "id": "23ea99dd-57dc-4dd6-acab-4aa54f33a6d1",
   "metadata": {},
   "outputs": [
    {
     "data": {
      "text/html": [
       "<div>\n",
       "<style scoped>\n",
       "    .dataframe tbody tr th:only-of-type {\n",
       "        vertical-align: middle;\n",
       "    }\n",
       "\n",
       "    .dataframe tbody tr th {\n",
       "        vertical-align: top;\n",
       "    }\n",
       "\n",
       "    .dataframe thead th {\n",
       "        text-align: right;\n",
       "    }\n",
       "</style>\n",
       "<table border=\"1\" class=\"dataframe\">\n",
       "  <thead>\n",
       "    <tr style=\"text-align: right;\">\n",
       "      <th></th>\n",
       "      <th>bedrooms</th>\n",
       "      <th>price</th>\n",
       "    </tr>\n",
       "  </thead>\n",
       "  <tbody>\n",
       "    <tr>\n",
       "      <th>bedrooms</th>\n",
       "      <td>1.000000</td>\n",
       "      <td>0.366494</td>\n",
       "    </tr>\n",
       "    <tr>\n",
       "      <th>price</th>\n",
       "      <td>0.366494</td>\n",
       "      <td>1.000000</td>\n",
       "    </tr>\n",
       "  </tbody>\n",
       "</table>\n",
       "</div>"
      ],
      "text/plain": [
       "          bedrooms     price\n",
       "bedrooms  1.000000  0.366494\n",
       "price     0.366494  1.000000"
      ]
     },
     "execution_count": 22,
     "metadata": {},
     "output_type": "execute_result"
    }
   ],
   "source": [
    "df[['bedrooms', 'price']].corr()\n"
   ]
  },
  {
   "cell_type": "code",
   "execution_count": 23,
   "id": "f2ef44da-ad15-475f-bb92-c10406b6dd0e",
   "metadata": {},
   "outputs": [
    {
     "data": {
      "text/html": [
       "<div>\n",
       "<style scoped>\n",
       "    .dataframe tbody tr th:only-of-type {\n",
       "        vertical-align: middle;\n",
       "    }\n",
       "\n",
       "    .dataframe tbody tr th {\n",
       "        vertical-align: top;\n",
       "    }\n",
       "\n",
       "    .dataframe thead th {\n",
       "        text-align: right;\n",
       "    }\n",
       "</style>\n",
       "<table border=\"1\" class=\"dataframe\">\n",
       "  <thead>\n",
       "    <tr style=\"text-align: right;\">\n",
       "      <th></th>\n",
       "      <th>value_counts</th>\n",
       "    </tr>\n",
       "  </thead>\n",
       "  <tbody>\n",
       "    <tr>\n",
       "      <th>1</th>\n",
       "      <td>227</td>\n",
       "    </tr>\n",
       "    <tr>\n",
       "      <th>0</th>\n",
       "      <td>178</td>\n",
       "    </tr>\n",
       "    <tr>\n",
       "      <th>2</th>\n",
       "      <td>140</td>\n",
       "    </tr>\n",
       "  </tbody>\n",
       "</table>\n",
       "</div>"
      ],
      "text/plain": [
       "   value_counts\n",
       "1           227\n",
       "0           178\n",
       "2           140"
      ]
     },
     "execution_count": 23,
     "metadata": {},
     "output_type": "execute_result"
    }
   ],
   "source": [
    "furniture= df['furnishingstatus'].value_counts().to_frame()\n",
    "furniture.rename(columns={'furnishingstatus': 'value_counts'}, inplace=True)\n",
    "furniture "
   ]
  },
  {
   "cell_type": "code",
   "execution_count": null,
   "id": "ba810b1b-7712-4e14-a314-c46ca5bb69c3",
   "metadata": {},
   "outputs": [],
   "source": [
    "furniture= df['furnishingstatus'].value_counts().to_frame()\n",
    "print(furniture)"
   ]
  },
  {
   "cell_type": "raw",
   "id": "50c98772-cc0d-4f79-b8f1-057beea31222",
   "metadata": {},
   "source": [
    "2. Multiple Regration analysis."
   ]
  },
  {
   "cell_type": "code",
   "execution_count": null,
   "id": "6fed2c47-cfe5-468c-9133-0ca8084c5a2d",
   "metadata": {},
   "outputs": [],
   "source": [
    "pd.get_dummies(df['guestroom'])"
   ]
  },
  {
   "cell_type": "code",
   "execution_count": null,
   "id": "f37aa52b-c143-4e82-8f81-262f08e45360",
   "metadata": {},
   "outputs": [],
   "source": [
    "Z = df[['area', 'bedrooms', 'bathrooms', 'parking','stories','mainroad','guestroom','basement','airconditioning','parking','furnishingstatus']]"
   ]
  },
  {
   "cell_type": "code",
   "execution_count": null,
   "id": "3acf7781-aea1-4f8a-89e2-b9ddef44dfb6",
   "metadata": {},
   "outputs": [],
   "source": [
    "lm.fit(Z, df['price'])"
   ]
  },
  {
   "cell_type": "markdown",
   "id": "0e8e7945-4c6a-4fa7-ad01-a7d630679a1a",
   "metadata": {},
   "source": [
    "What is the value of the intercept(a)?"
   ]
  },
  {
   "cell_type": "code",
   "execution_count": null,
   "id": "4d2c5b56-60fc-4d8e-8aa7-09688dfc2824",
   "metadata": {},
   "outputs": [],
   "source": [
    "lm.intercept_"
   ]
  },
  {
   "cell_type": "markdown",
   "id": "8335a048-fecd-45df-928f-59db105c1b7e",
   "metadata": {},
   "source": [
    "What are the values of the coefficients (b1, b2, b3, b4)?"
   ]
  },
  {
   "cell_type": "code",
   "execution_count": null,
   "id": "e23b15c3-e6fd-4a77-8234-44d37977db82",
   "metadata": {},
   "outputs": [],
   "source": [
    "lm.coef_"
   ]
  },
  {
   "cell_type": "code",
   "execution_count": null,
   "id": "c50a6dad-8719-4c36-9e25-ac9ca7f3adbf",
   "metadata": {},
   "outputs": [],
   "source": [
    "Price = -455944.0632571569+(2.64278023e+02)*area+(1.32546645e+05)*bedrooms+(9.96541343e+05)*bathrooms+(1.45749225e+05)*parking+(4.68712885e+05)*stories+(5.16222154e+05)*mainroad+(3.26859440e+05)*guestroom+(4.75522891e+05)*basement+(8.11843379e+05)*airconditioning+(1.45749225e+05)*parking+(2.29953906e+05)*furnishingstatus"
   ]
  },
  {
   "cell_type": "markdown",
   "id": "0a12643e-45b9-4182-a74b-7bf2bf47a4dc",
   "metadata": {},
   "source": [
    "<b/>Prediction with Machine Learning-Multiple Regression<b/>"
   ]
  },
  {
   "cell_type": "code",
   "execution_count": 17,
   "id": "b56292a9-443a-419d-b1dd-69ee0e669d79",
   "metadata": {},
   "outputs": [],
   "source": [
    "X = df[['area', 'bedrooms', 'bathrooms', 'parking','stories','mainroad','guestroom','basement','airconditioning','parking','furnishingstatus']]\n",
    "y = df['price']\n",
    "\n"
   ]
  },
  {
   "cell_type": "code",
   "execution_count": 18,
   "id": "9703ee97-e2ec-44e1-bfc5-2c37c0bab0bc",
   "metadata": {},
   "outputs": [
    {
     "data": {
      "text/plain": [
       "LinearRegression()"
      ]
     },
     "execution_count": 18,
     "metadata": {},
     "output_type": "execute_result"
    }
   ],
   "source": [
    "regr = linear_model.LinearRegression()\n",
    "regr.fit(X, y)"
   ]
  },
  {
   "cell_type": "code",
   "execution_count": 19,
   "id": "f3e6951b-bdef-4202-b460-47a6063875ae",
   "metadata": {},
   "outputs": [
    {
     "name": "stdout",
     "output_type": "stream",
     "text": [
      "[8531106.04078095]\n"
     ]
    },
    {
     "name": "stderr",
     "output_type": "stream",
     "text": [
      "C:\\Users\\avisi\\anaconda3\\lib\\site-packages\\sklearn\\utils\\validation.py:63: FutureWarning: Arrays of bytes/strings is being converted to decimal numbers if dtype='numeric'. This behavior is deprecated in 0.24 and will be removed in 1.1 (renaming of 0.26). Please convert your data to numeric values explicitly instead.\n",
      "  return f(*args, **kwargs)\n"
     ]
    }
   ],
   "source": [
    "predictedCO2 = regr.predict([['7420', '3', '4', '2','2','1','0','0','0','3','2']])\n",
    "\n",
    "print(predictedCO2)"
   ]
  },
  {
   "cell_type": "code",
   "execution_count": null,
   "id": "3e3c7447-8250-4cf1-bffe-de255157a474",
   "metadata": {},
   "outputs": [],
   "source": []
  }
 ],
 "metadata": {
  "kernelspec": {
   "display_name": "Python 3",
   "language": "python",
   "name": "python3"
  },
  "language_info": {
   "codemirror_mode": {
    "name": "ipython",
    "version": 3
   },
   "file_extension": ".py",
   "mimetype": "text/x-python",
   "name": "python",
   "nbconvert_exporter": "python",
   "pygments_lexer": "ipython3",
   "version": "3.8.8"
  }
 },
 "nbformat": 4,
 "nbformat_minor": 5
}
